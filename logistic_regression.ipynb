{
 "cells": [
  {
   "cell_type": "markdown",
   "metadata": {},
   "source": []
  },
  {
   "cell_type": "markdown",
   "metadata": {},
   "source": [
    "Y_hat --> predicted value\n",
    "\n",
    "X --> Input Variable\n",
    "\n",
    "w --> weight\n",
    "\n",
    "b --> bias\n",
    "\n",
    "Gradient Descent:\n",
    "\n",
    "Gradient Descent is an optimization algorithm used for minimizing the loss function in various machine learning algorithms. It is used for updating the parameters of the learning model.\n",
    "\n",
    "w = w - α*dw\n",
    "\n",
    "b = b - α*db\n",
    "\n",
    "Learning Rate:\n",
    "\n",
    "Learning rate is a tuning parameter in an optimization algorithm that determines the step size at each iteration while moving toward a minimum of a loss function."
   ]
  },
  {
   "cell_type": "markdown",
   "metadata": {},
   "source": []
  },
  {
   "cell_type": "code",
   "execution_count": 1,
   "metadata": {},
   "outputs": [
    {
     "name": "stdout",
     "output_type": "stream",
     "text": [
      "hello\n"
     ]
    }
   ],
   "source": [
    "print(\"hello\")"
   ]
  },
  {
   "cell_type": "code",
   "execution_count": 2,
   "metadata": {},
   "outputs": [],
   "source": [
    "import numpy as np"
   ]
  },
  {
   "cell_type": "code",
   "execution_count": 5,
   "metadata": {},
   "outputs": [],
   "source": [
    "import numpy as np  # Importing NumPy for mathematical operations\n",
    "\n",
    "class Logistic_Regression():\n",
    "    # Constructor to initialize the learning rate and the number of iterations\n",
    "    def __init__(self, Learning_rate, no_of_iteration):\n",
    "        self.Learning_rate = Learning_rate  # Store learning rate\n",
    "        self.no_of_iteration = no_of_iteration  # Store number of iterations\n",
    "\n",
    "    # Function to train the model with input data (X) and labels (Y)\n",
    "    def fit(self, X, Y):\n",
    "        # Get the number of data points (m = rows) and features (n = columns)\n",
    "        self.m, self.n = X.shape\n",
    "        # Initialize weights (w) as zeros for each feature\n",
    "        self.w = np.zeros(self.n)\n",
    "        # Initialize the bias (b) to zero\n",
    "        self.b = 0\n",
    "\n",
    "        # Store input data and labels for use in training\n",
    "        self.X = X\n",
    "        self.Y = Y\n",
    "\n",
    "        # Perform the weight update for the specified number of iterations\n",
    "        for i in range(self.no_of_iteration):\n",
    "            self.update_weight()  # Call function to update weights and bias\n",
    "\n",
    "    # Function to update weights and bias during training\n",
    "    def update_weight(self):\n",
    "        # Predict the probabilities using the current weights and bias (logistic function)\n",
    "        Y_hat = 1 / (1 + np.exp(- (self.X.dot(self.w) + self.b)))\n",
    "\n",
    "        # Calculate the gradients for weights and bias\n",
    "        dw = (1 / self.m) * np.dot(self.X.T, (Y_hat - self.Y))  # Gradient of weights\n",
    "        db = (1 / self.m) * np.sum(Y_hat - self.Y)  # Gradient of bias\n",
    "\n",
    "        # Update the weights and bias using the gradients\n",
    "        self.w = self.w - self.Learning_rate * dw\n",
    "        self.b = self.b - self.Learning_rate * db\n",
    "\n",
    "    # Function to make predictions on new data\n",
    "    #again writing the sigmoid function\n",
    "    def predict(self, X):\n",
    "        # Calculate the probability predictions\n",
    "        Y_pred = 1 / (1 + np.exp(-(X.dot(self.w) + self.b)))\n",
    "        # Convert probabilities to binary output (0 or 1)\n",
    "        Y_pred = np.where(Y_pred > 0.5, 1, 0)\n",
    "        return Y_pred  # Return the final predictions\n"
   ]
  },
  {
   "cell_type": "code",
   "execution_count": null,
   "metadata": {},
   "outputs": [],
   "source": []
  }
 ],
 "metadata": {
  "kernelspec": {
   "display_name": "trainy2_O",
   "language": "python",
   "name": "python3"
  },
  "language_info": {
   "codemirror_mode": {
    "name": "ipython",
    "version": 3
   },
   "file_extension": ".py",
   "mimetype": "text/x-python",
   "name": "python",
   "nbconvert_exporter": "python",
   "pygments_lexer": "ipython3",
   "version": "3.11.7"
  }
 },
 "nbformat": 4,
 "nbformat_minor": 2
}
